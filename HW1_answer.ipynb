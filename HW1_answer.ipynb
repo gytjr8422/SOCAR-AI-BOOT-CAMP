{
  "nbformat": 4,
  "nbformat_minor": 0,
  "metadata": {
    "colab": {
      "name": "HW1_answer.ipynb",
      "provenance": [],
      "collapsed_sections": [],
      "authorship_tag": "ABX9TyMUA4wX6ZEBEbDqjUp1yrxz",
      "include_colab_link": true
    },
    "kernelspec": {
      "name": "python3",
      "display_name": "Python 3"
    },
    "language_info": {
      "name": "python"
    }
  },
  "cells": [
    {
      "cell_type": "markdown",
      "metadata": {
        "id": "view-in-github",
        "colab_type": "text"
      },
      "source": [
        "<a href=\"https://colab.research.google.com/github/gytjr8422/SOCAR-AI-BOOT-CAMP/blob/main/HW1_answer.ipynb\" target=\"_parent\"><img src=\"https://colab.research.google.com/assets/colab-badge.svg\" alt=\"Open In Colab\"/></a>"
      ]
    },
    {
      "cell_type": "markdown",
      "source": [
        "## HW1\n",
        "데이터셋의 크기가 1/10이 되었을때도 gradient descent를 이용한 linear regression이 잘 동작하는지 강의에서 배운 k-fold cross validation (k=5)을 활용해서 확인해보세요. \n",
        "그리고 데이터셋의 크기가 원래 사이즈였을 때도 똑같이 k-fold cross validation (k=5)를 진행해서 두 경우의 validation loss (k round의 평균 test loss)를 비교해보세요.\n",
        "\n",
        "###참고사항\n",
        "1.   위에 주어진 코드에서는 학습 방법에 초점이 맞춰져 test set이 따로 없었지만, 실제로 학습을 진행할때는 validation set이나 test set을 통해 성능을 확인하는 것이 필수적입니다!\n",
        "2.   전체 데이터를 k개의 부분집합으로 나누기 위해서 아래와 같은 sklearn 라이브러리의 KFold 클래스를 사용해도 되지만,\n",
        "```\n",
        "from sklearn.model_selection import KFold\n",
        "```\n",
        "연습을 위해서 Lab 1-1에서 배운 Slicing을 통해서 데이터셋을 k개로 나누고\n",
        "k round의 learning을 진행해주세요.\n",
        "\n",
        "\n",
        "\n"
      ],
      "metadata": {
        "id": "AcGfhhi1SuXf"
      }
    },
    {
      "cell_type": "code",
      "execution_count": 1,
      "metadata": {
        "id": "tr4D93XDSlUx"
      },
      "outputs": [],
      "source": [
        "import torch\n",
        "import torch.nn as nn\n",
        "import numpy as np"
      ]
    },
    {
      "cell_type": "code",
      "source": [
        "# mount google drive\n",
        "from google.colab import drive\n",
        "drive.mount('/content/drive')"
      ],
      "metadata": {
        "colab": {
          "base_uri": "https://localhost:8080/"
        },
        "id": "_9DS3dV9Sqza",
        "outputId": "eff9ee01-c32f-4529-8e4c-327d36f3cb7f"
      },
      "execution_count": 2,
      "outputs": [
        {
          "output_type": "stream",
          "name": "stdout",
          "text": [
            "Mounted at /content/drive\n"
          ]
        }
      ]
    },
    {
      "cell_type": "code",
      "source": [
        "file = open('/content/drive/MyDrive/Colab Notebooks/data/regression_data.txt','r')  # open the file with read-only\n",
        "text = file.readlines() # read all lines texts\n",
        "file.close() # close the file\n",
        "\n",
        "x_data = []\n",
        "y_data = []\n",
        "\n",
        "# convert to float\n",
        "for idx,s in enumerate(text):\n",
        "  if idx % 10 == 0:\n",
        "    data = s.split()\n",
        "    x_data.append(float(data[0]))\n",
        "    y_data.append(float(data[1]))\n",
        "\n",
        "x_data = np.asarray(x_data, dtype=np.float32)\n",
        "y_data = np.asarray(y_data, dtype=np.float32)"
      ],
      "metadata": {
        "id": "R-JZjjvGTBVn"
      },
      "execution_count": 3,
      "outputs": []
    },
    {
      "cell_type": "code",
      "source": [
        "import matplotlib.pyplot as plt\n",
        "%matplotlib inline\n",
        "\n",
        "plt.figure(1)\n",
        "plt.plot(x_data, y_data, 'ro') # plot data\n",
        "\n",
        "plt.xlabel('x-axis')\n",
        "plt.ylabel('-axis')\n",
        "plt.title('My data')\n",
        "\n",
        "plt.show()"
      ],
      "metadata": {
        "colab": {
          "base_uri": "https://localhost:8080/",
          "height": 295
        },
        "id": "HyNtRmh4Tt-U",
        "outputId": "f7b8dec2-4622-4e88-92ed-5bedebb64007"
      },
      "execution_count": 4,
      "outputs": [
        {
          "output_type": "display_data",
          "data": {
            "text/plain": [
              "<Figure size 432x288 with 1 Axes>"
            ],
            "image/png": "[encoded data removed]"
          },
          "metadata": {
            "needs_background": "light"
          }
        }
      ]
    },
    {
      "cell_type": "markdown",
      "source": [
        "### Gradient Descent로 Linear Regression (K-fold cross validation)"
      ],
      "metadata": {
        "id": "uDAEAcoPUj1i"
      }
    },
    {
      "cell_type": "code",
      "source": [
        "# data shaping\n",
        "if len(x_data.shape)==1 and len(y_data.shape)==1:\n",
        "  x_data= np.expand_dims(x_data, axis=-1)\n",
        "  y_data= np.expand_dims(y_data, axis=-1)\n",
        "print(x_data.shape, y_data.shape)"
      ],
      "metadata": {
        "colab": {
          "base_uri": "https://localhost:8080/"
        },
        "id": "yAG2KJnDUfB-",
        "outputId": "d9867f1a-65c6-4b9e-9ba5-603fa8504268"
      },
      "execution_count": 5,
      "outputs": [
        {
          "output_type": "stream",
          "name": "stdout",
          "text": [
            "(10, 1) (10, 1)\n"
          ]
        }
      ]
    },
    {
      "cell_type": "code",
      "source": [
        "# Hyper-parameters\n",
        "input_size = 1\n",
        "output_size = 1\n",
        "num_epochs = 100\n",
        "learning_rate = 0.1\n",
        "K = 5\n",
        "n_over_k = int(len(x_data)/K)\n",
        "\n",
        "val_losses = [] # array for saving validation losses\n",
        "\n",
        "for k in range(K):\n",
        "  # Linear regression model, y = Wx + b\n",
        "  model = nn.Linear(input_size, output_size)\n",
        "\n",
        "  # Loss and optimizer\n",
        "  criterion = nn.MSELoss()\n",
        "  optimizer = torch.optim.SGD(model.parameters(), lr=learning_rate)\n",
        "\n",
        "  # training / validation partition of the k-th round\n",
        "  # np.delete 함수에 slice를 넘겨주면 해당 axis의 해당 인덱스들을 array에서 제거\n",
        "  # k번 반복할 때마다 train이랑 valid를 바꿔줘야하기 때문에\n",
        "  x_train = np.delete(x_data, slice(k*n_over_k, (k+1)*n_over_k), axis=0) # axis=0은 1은 열\n",
        "  y_train = np.delete(y_data, slice(k*n_over_k, (k+1)*n_over_k), axis=0)\n",
        "\n",
        "  # 앞 뒤로 slice 한 것을 첫 번째 axis를 기준으로 붙여도 됨(concatenate 함수)\n",
        "  # x_train = np.concatenate((x_data[:k*n_over_k,:], x_data[(k+1)*n_over_k:,:]), axis=0)\n",
        "  # y_train = np.concatenate((y_data[:k*n_over_k,:], y_data[(k+1)*n_over_k:,:]), axis=0)\n",
        "\n",
        "  x_valid = x_data[k*n_over_k:(k+1)*n_over_k, :]\n",
        "  y_valid = y_data[k*n_over_k:(k+1)*n_over_k, :]\n",
        "\n",
        "  # Train the model\n",
        "  for epoch in range(num_epochs):\n",
        "    # Convert numpy arrays to torch tensors\n",
        "    inputs = torch.from_numpy(x_train)\n",
        "    targets = torch.from_numpy(y_train)\n",
        "\n",
        "    # Predict outputs with the linear model.\n",
        "    outputs = model(inputs)\n",
        "    loss = criterion(outputs, targets)\n",
        "\n",
        "    # compute gradients and update\n",
        "    optimizer.zero_grad()\n",
        "    loss.backward()\n",
        "    optimizer.step()\n",
        "\n",
        "    if (epoch+1) % 20 == 0:\n",
        "      print('Epoch [{}/{}], Loss: {:.4f}'.format(epoch+1, num_epochs, loss.item()))\n",
        "    \n",
        "  # validation error\n",
        "  inputs = torch.from_numpy(x_valid)\n",
        "  targets = torch.from_numpy(y_valid)\n",
        "  outputs = model(inputs)\n",
        "  loss = criterion(outputs, targets)\n",
        "  print(k+1, \"-th round validation error: \", loss.item())\n",
        "  val_losses.append(loss.item())\n",
        "\n",
        "val_losses = np.asarray(val_losses)\n",
        "print(\"Final validation error: \", val_losses.mean())"
      ],
      "metadata": {
        "colab": {
          "base_uri": "https://localhost:8080/"
        },
        "id": "QRU798trU1Iw",
        "outputId": "685ab1a9-9c0c-4d73-c726-cc03f5877296"
      },
      "execution_count": 6,
      "outputs": [
        {
          "output_type": "stream",
          "name": "stdout",
          "text": [
            "Epoch [20/100], Loss: 0.0009\n",
            "Epoch [40/100], Loss: 0.0002\n",
            "Epoch [60/100], Loss: 0.0002\n",
            "Epoch [80/100], Loss: 0.0002\n",
            "Epoch [100/100], Loss: 0.0002\n",
            "1 -th round validation error:  8.724959479877725e-05\n",
            "Epoch [20/100], Loss: 0.0311\n",
            "Epoch [40/100], Loss: 0.0039\n",
            "Epoch [60/100], Loss: 0.0007\n",
            "Epoch [80/100], Loss: 0.0003\n",
            "Epoch [100/100], Loss: 0.0002\n",
            "2 -th round validation error:  2.274244798172731e-05\n",
            "Epoch [20/100], Loss: 0.0006\n",
            "Epoch [40/100], Loss: 0.0002\n",
            "Epoch [60/100], Loss: 0.0001\n",
            "Epoch [80/100], Loss: 0.0001\n",
            "Epoch [100/100], Loss: 0.0001\n",
            "3 -th round validation error:  0.000427857885370031\n",
            "Epoch [20/100], Loss: 0.0342\n",
            "Epoch [40/100], Loss: 0.0036\n",
            "Epoch [60/100], Loss: 0.0005\n",
            "Epoch [80/100], Loss: 0.0002\n",
            "Epoch [100/100], Loss: 0.0002\n",
            "4 -th round validation error:  0.0002834916231222451\n",
            "Epoch [20/100], Loss: 0.0269\n",
            "Epoch [40/100], Loss: 0.0044\n",
            "Epoch [60/100], Loss: 0.0008\n",
            "Epoch [80/100], Loss: 0.0002\n",
            "Epoch [100/100], Loss: 0.0001\n",
            "5 -th round validation error:  0.0010093249147757888\n",
            "Final validation error:  0.00036613329320971387\n"
          ]
        }
      ]
    },
    {
      "cell_type": "code",
      "source": [
        "file = open('/content/drive/MyDrive/Colab Notebooks/data/regression_data.txt','r')  # open the file with read-only\n",
        "text = file.readlines()  # read all line texts\n",
        "file.close()  # close the file\n",
        "\n",
        "x_data = []\n",
        "y_data = []\n",
        "\n",
        "# convert to float\n",
        "for s in text:\n",
        "    data = s.split()\n",
        "    x_data.append(float(data[0]))\n",
        "    y_data.append(float(data[1]))    \n",
        "\n",
        "# convert to numpy-array\n",
        "x_data = np.asarray(x_data, dtype=np.float32)\n",
        "y_data = np.asarray(y_data, dtype=np.float32)"
      ],
      "metadata": {
        "id": "lSKrt8A1dD_V"
      },
      "execution_count": 11,
      "outputs": []
    },
    {
      "cell_type": "code",
      "source": [
        "# data shaping\n",
        "if len(x_data.shape)==1 and len(y_data.shape)==1:\n",
        "  x_data = np.expand_dims(x_data, axis=-1)\n",
        "  y_data = np.expand_dims(y_data, axis=-1)\n",
        "print(x_data.shape, y_data.shape)"
      ],
      "metadata": {
        "colab": {
          "base_uri": "https://localhost:8080/"
        },
        "id": "DqUfwUCOgDiO",
        "outputId": "e491b012-ee3f-4b1d-f9c6-3ae6c670a069"
      },
      "execution_count": 12,
      "outputs": [
        {
          "output_type": "stream",
          "name": "stdout",
          "text": [
            "(100, 1) (100, 1)\n"
          ]
        }
      ]
    },
    {
      "cell_type": "code",
      "source": [
        "# Hyper-parameters\n",
        "input_size = 1\n",
        "ouput_size = 1\n",
        "num_epochs = 100\n",
        "learning_rate = 0.1\n",
        "K = 5\n",
        "n_over_k = int(len(x_data)/K)\n",
        "\n",
        "val_losses = [] # array for saving validation losses\n",
        "\n",
        "for k in range(K):\n",
        "  # Linear regression model, y = Wx + b\n",
        "  model = nn.Linear(input_size, output_size)\n",
        "\n",
        "  # Loss and optimizer\n",
        "  criterion = nn.MSELoss()\n",
        "  optimizer = torch.optim.SGD(model.parameters(), lr=learning_rate)\n",
        "\n",
        "  # training / validation partition of the k-th round\n",
        "  # np.delete 함수에 slice를 넘겨주면 해당 axis의 해당 인덱스들을 array에서 제거\n",
        "  # k번 반복할 때마다 train이랑 valid를 바꿔줘야하기 때문에\n",
        "  x_train = np.delete(x_data, slice(k*n_over_k, (k+1)*n_over_k), axis=0)\n",
        "  y_train = np.delete(y_data, slice(k*n_over_k, (k+1)*n_over_k), axis=0)\n",
        "\n",
        "  # 앞 뒤로 slice 한 것을 첫 번째 axis를 기준으로 붙여도 됨(concatenate 함수)\n",
        "  # x_tarin = np.concatenate((x_data[:k*n_over_k,:], x_data[(k+1)*n_oevr_k]), axis=0)\n",
        "  # y_tarin = np.concatenate((y_data[:k*n_over_k,:], y_data[(k+1)*n_oevr_k]), axis=0)\n",
        "\n",
        "  x_valid = x_data[k*n_over_k:(k+1)*n_over_k, :]\n",
        "  y_valid = y_data[k*n_over_k:(k+1)*n_over_k, :]\n",
        "\n",
        "  # Train the model\n",
        "  for epoch in range(num_epochs):\n",
        "    # Convert numpy arrays to torch tensors\n",
        "    inputs = torch.from_numpy(x_train)\n",
        "    targets = torch.from_numpy(y_train)\n",
        "\n",
        "    # Predict outputs with the linear model.\n",
        "    outputs = model(inputs)\n",
        "    loss = criterion(outputs, targets)\n",
        "\n",
        "    # compute gradients and update\n",
        "    optimizer.zero_grad()\n",
        "    loss.backward()\n",
        "    optimizer.step()\n",
        "\n",
        "    if (epoch+1) % 20 == 0:\n",
        "      print('Epoch [{}/{}], Loss: {:.4f}'.format(epoch+1, num_epochs, loss.item()))\n",
        "\n",
        "  # validation error\n",
        "  inputs = torch.from_numpy(x_valid)\n",
        "  targets = torch.from_numpy(y_valid)\n",
        "  output = model(inputs)\n",
        "  loss = criterion(outputs, targets)\n",
        "  print(k+1, \"-th round validation error: \", loss.item())\n",
        "  val_losses.append(loss.item())\n",
        "\n",
        "val_losses = np.asarray(val_losses)\n",
        "print(\"Final validation error: \", val_losses.mean())"
      ],
      "metadata": {
        "id": "iuxMVl8-hLIQ"
      },
      "execution_count": null,
      "outputs": []
    }
  ]
}